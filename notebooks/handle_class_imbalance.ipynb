{
 "cells": [
  {
   "cell_type": "markdown",
   "id": "95c80336",
   "metadata": {},
   "source": [
    "# Handling Class Imbalance"
   ]
  },
  {
   "cell_type": "code",
   "execution_count": null,
   "id": "88066eb6",
   "metadata": {},
   "outputs": [],
   "source": [
    "import pandas as pd\n",
    "from imblearn.over_sampling import SMOTE\n",
    "from sklearn.model_selection import train_test_split\n",
    "from sklearn.preprocessing import StandardScaler\n",
    "from collections import Counter\n",
    "\n",
    "# Load the data\n",
    "df = pd.read_csv(\".data/final_fraud_data_Processed.csv\")  \n",
    "\n",
    "# Preview class distribution\n",
    "print(\"Class distribution before resampling:\")\n",
    "print(df['class'].value_counts())\n"
   ]
  },
  {
   "cell_type": "markdown",
   "id": "bb8a3160",
   "metadata": {},
   "source": [
    "## Train-Test Split"
   ]
  },
  {
   "cell_type": "code",
   "execution_count": null,
   "id": "5ca3200a",
   "metadata": {},
   "outputs": [],
   "source": [
    "X = df.drop(['class', 'user_id', 'device_id', 'ip_address'], axis=1)\n",
    "y = df['class']\n",
    "\n",
    "# Encode categoricals\n",
    "X = pd.get_dummies(X, drop_first=True)\n",
    "\n",
    "# Scale numerics\n",
    "scaler = StandardScaler()\n",
    "X_scaled = scaler.fit_transform(X)\n",
    "\n",
    "# Split data\n",
    "X_train, X_test, y_train, y_test = train_test_split(\n",
    "    X_scaled, y, test_size=0.3, random_state=42, stratify=y\n",
    ")\n",
    "\n",
    "print(\"Training target distribution:\", Counter(y_train))\n"
   ]
  },
  {
   "cell_type": "markdown",
   "id": "fc62e25d",
   "metadata": {},
   "source": [
    "## Apply SMOTE to Handle Imbalance"
   ]
  },
  {
   "cell_type": "code",
   "execution_count": null,
   "id": "a22f17fd",
   "metadata": {},
   "outputs": [],
   "source": [
    "smote = SMOTE(random_state=42)\n",
    "X_train_resampled, y_train_resampled = smote.fit_resample(X_train, y_train)\n",
    "\n",
    "print(\"Resampled training target distribution:\", Counter(y_train_resampled))\n"
   ]
  }
 ],
 "metadata": {
  "language_info": {
   "name": "python"
  }
 },
 "nbformat": 4,
 "nbformat_minor": 5
}
