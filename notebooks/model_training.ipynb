{
 "cells": [
  {
   "cell_type": "markdown",
   "id": "b7b28a95",
   "metadata": {},
   "source": [
    "# Task 2: Model Training with LightGBM and Evaluation"
   ]
  },
  {
   "cell_type": "markdown",
   "id": "95c80336",
   "metadata": {},
   "source": [
    "### Handling Class Imbalance"
   ]
  },
  {
   "cell_type": "code",
   "execution_count": 3,
   "id": "88066eb6",
   "metadata": {},
   "outputs": [
    {
     "name": "stdout",
     "output_type": "stream",
     "text": [
      "Class distribution before resampling:\n",
      "class\n",
      "0    136961\n",
      "1     14151\n",
      "Name: count, dtype: int64\n"
     ]
    }
   ],
   "source": [
    "import pandas as pd\n",
    "from imblearn.over_sampling import SMOTE\n",
    "from sklearn.model_selection import train_test_split\n",
    "from sklearn.preprocessing import StandardScaler\n",
    "from collections import Counter\n",
    "\n",
    "# Load the data\n",
    "df = pd.read_csv(\"../data/final_fraud_data_Processed.csv\")  \n",
    "\n",
    "# Preview class distribution\n",
    "print(\"Class distribution before resampling:\")\n",
    "print(df['class'].value_counts())\n"
   ]
  },
  {
   "cell_type": "markdown",
   "id": "bb8a3160",
   "metadata": {},
   "source": [
    "## Train-Test Split"
   ]
  },
  {
   "cell_type": "code",
   "execution_count": 6,
   "id": "5ca3200a",
   "metadata": {},
   "outputs": [
    {
     "name": "stdout",
     "output_type": "stream",
     "text": [
      "Training target distribution: Counter({0: 95872, 1: 9906})\n"
     ]
    }
   ],
   "source": [
    "X = df.drop(['class', 'user_id', 'device_id', 'ip_address', 'signup_time', 'purchase_time'], axis=1)\n",
    "y = df['class']\n",
    "\n",
    "# Encode categoricals\n",
    "X = df.drop(['class', 'user_id', 'device_id', 'ip_address', 'signup_time', 'purchase_time'], axis=1).copy()\n",
    "categorical_cols = ['source', 'browser', 'sex', 'country']\n",
    "X = pd.get_dummies(X, columns=categorical_cols, drop_first=True)\n",
    "\n",
    "\n",
    "# Scale numerics\n",
    "scaler = StandardScaler()\n",
    "X_scaled = scaler.fit_transform(X)\n",
    "\n",
    "# Split data\n",
    "X_train, X_test, y_train, y_test = train_test_split(\n",
    "    X_scaled, y, test_size=0.3, random_state=42, stratify=y\n",
    ")\n",
    "\n",
    "print(\"Training target distribution:\", Counter(y_train))"
   ]
  },
  {
   "cell_type": "markdown",
   "id": "fc62e25d",
   "metadata": {},
   "source": [
    "## Apply SMOTE to Handle Imbalance"
   ]
  },
  {
   "cell_type": "code",
   "execution_count": 7,
   "id": "a22f17fd",
   "metadata": {},
   "outputs": [
    {
     "name": "stdout",
     "output_type": "stream",
     "text": [
      "Resampled training target distribution: Counter({0: 95872, 1: 95872})\n"
     ]
    }
   ],
   "source": [
    "smote = SMOTE(random_state=42)\n",
    "X_train_resampled, y_train_resampled = smote.fit_resample(X_train, y_train)\n",
    "\n",
    "print(\"Resampled training target distribution:\", Counter(y_train_resampled))\n"
   ]
  },
  {
   "cell_type": "code",
   "execution_count": 9,
   "id": "cb45b6f2",
   "metadata": {},
   "outputs": [],
   "source": [
    "import pandas as pd\n",
    "import numpy as np\n",
    "import lightgbm as lgb\n",
    "from sklearn.linear_model import LogisticRegression\n",
    "from sklearn.metrics import (\n",
    "    classification_report, confusion_matrix, f1_score, roc_auc_score, \n",
    "    average_precision_score, precision_recall_curve\n",
    ")\n",
    "import matplotlib.pyplot as plt\n",
    "import seaborn as sns\n"
   ]
  },
  {
   "cell_type": "markdown",
   "id": "31ac5866",
   "metadata": {},
   "source": [
    "## Logistic Regression (Baseline Model)"
   ]
  },
  {
   "cell_type": "code",
   "execution_count": 10,
   "id": "2ddbc7c7",
   "metadata": {},
   "outputs": [
    {
     "name": "stdout",
     "output_type": "stream",
     "text": [
      "Classification Report (LogReg):\n",
      "               precision    recall  f1-score   support\n",
      "\n",
      "           0       0.95      0.65      0.77     41089\n",
      "           1       0.17      0.69      0.27      4245\n",
      "\n",
      "    accuracy                           0.65     45334\n",
      "   macro avg       0.56      0.67      0.52     45334\n",
      "weighted avg       0.88      0.65      0.73     45334\n",
      "\n",
      "F1 Score: 0.272777932571747\n",
      "ROC-AUC Score: 0.7517652063902998\n",
      "AUC-PR Score: 0.4042839346514586\n"
     ]
    },
    {
     "data": {
      "image/png": "[encoded data removed]",
      "text/plain": [
       "<Figure size 640x480 with 2 Axes>"
      ]
     },
     "metadata": {},
     "output_type": "display_data"
    }
   ],
   "source": [
    "logreg = LogisticRegression(max_iter=1000, class_weight='balanced', random_state=42)\n",
    "logreg.fit(X_train_resampled, y_train_resampled)\n",
    "y_pred_lr = logreg.predict(X_test)\n",
    "y_proba_lr = logreg.predict_proba(X_test)[:, 1]\n",
    "\n",
    "print(\"Classification Report (LogReg):\\n\", classification_report(y_test, y_pred_lr))\n",
    "print(\"F1 Score:\", f1_score(y_test, y_pred_lr))\n",
    "print(\"ROC-AUC Score:\", roc_auc_score(y_test, y_proba_lr))\n",
    "print(\"AUC-PR Score:\", average_precision_score(y_test, y_proba_lr))\n",
    "\n",
    "# Confusion Matrix\n",
    "sns.heatmap(confusion_matrix(y_test, y_pred_lr), annot=True, fmt=\"d\", cmap=\"Blues\")\n",
    "plt.title(\"Confusion Matrix - Logistic Regression\")\n",
    "plt.xlabel(\"Predicted\")\n",
    "plt.ylabel(\"Actual\")\n",
    "plt.show()\n"
   ]
  },
  {
   "cell_type": "markdown",
   "id": "f7370fcc",
   "metadata": {},
   "source": [
    "## LightGBM Classifier"
   ]
  },
  {
   "cell_type": "code",
   "execution_count": 11,
   "id": "7b9d333a",
   "metadata": {},
   "outputs": [
    {
     "name": "stdout",
     "output_type": "stream",
     "text": [
      "[LightGBM] [Info] Number of positive: 95872, number of negative: 95872\n",
      "[LightGBM] [Info] Auto-choosing row-wise multi-threading, the overhead of testing was 0.017366 seconds.\n",
      "You can set `force_row_wise=true` to remove the overhead.\n",
      "And if memory is not enough, you can set `force_col_wise=true`.\n",
      "[LightGBM] [Info] Total Bins 3745\n",
      "[LightGBM] [Info] Number of data points in the train set: 191744, number of used features: 116\n",
      "[LightGBM] [Info] [binary:BoostFromScore]: pavg=0.500000 -> initscore=0.000000\n"
     ]
    },
    {
     "name": "stderr",
     "output_type": "stream",
     "text": [
      "c:\\Users\\sami1\\Documents\\tenx\\fraud-detection-for-e-commerce\\.venv\\Lib\\site-packages\\sklearn\\utils\\validation.py:2739: UserWarning: X does not have valid feature names, but LGBMClassifier was fitted with feature names\n",
      "  warnings.warn(\n",
      "c:\\Users\\sami1\\Documents\\tenx\\fraud-detection-for-e-commerce\\.venv\\Lib\\site-packages\\sklearn\\utils\\validation.py:2739: UserWarning: X does not have valid feature names, but LGBMClassifier was fitted with feature names\n",
      "  warnings.warn(\n"
     ]
    },
    {
     "name": "stdout",
     "output_type": "stream",
     "text": [
      "Classification Report (LightGBM):\n",
      "               precision    recall  f1-score   support\n",
      "\n",
      "           0       0.95      1.00      0.98     41089\n",
      "           1       1.00      0.53      0.70      4245\n",
      "\n",
      "    accuracy                           0.96     45334\n",
      "   macro avg       0.98      0.77      0.84     45334\n",
      "weighted avg       0.96      0.96      0.95     45334\n",
      "\n",
      "F1 Score: 0.6954517516902274\n",
      "ROC-AUC Score: 0.7679600697855995\n",
      "AUC-PR Score: 0.6244217126020435\n"
     ]
    },
    {
     "data": {
      "image/png": "[encoded data removed]",
      "text/plain": [
       "<Figure size 640x480 with 2 Axes>"
      ]
     },
     "metadata": {},
     "output_type": "display_data"
    }
   ],
   "source": [
    "lgb_model = lgb.LGBMClassifier(class_weight='balanced', random_state=42, n_estimators=100)\n",
    "lgb_model.fit(X_train_resampled, y_train_resampled)\n",
    "y_pred_lgb = lgb_model.predict(X_test)\n",
    "y_proba_lgb = lgb_model.predict_proba(X_test)[:, 1]\n",
    "\n",
    "print(\"Classification Report (LightGBM):\\n\", classification_report(y_test, y_pred_lgb))\n",
    "print(\"F1 Score:\", f1_score(y_test, y_pred_lgb))\n",
    "print(\"ROC-AUC Score:\", roc_auc_score(y_test, y_proba_lgb))\n",
    "print(\"AUC-PR Score:\", average_precision_score(y_test, y_proba_lgb))\n",
    "\n",
    "# Confusion Matrix\n",
    "sns.heatmap(confusion_matrix(y_test, y_pred_lgb), annot=True, fmt=\"d\", cmap=\"Greens\")\n",
    "plt.title(\"Confusion Matrix - LightGBM\")\n",
    "plt.xlabel(\"Predicted\")\n",
    "plt.ylabel(\"Actual\")\n",
    "plt.show()\n"
   ]
  },
  {
   "cell_type": "markdown",
   "id": "a3a20775",
   "metadata": {},
   "source": [
    "## Model Evaluation Summary\n",
    "\n",
    "I evaluated two models, Logistic Regression and LightGBM, using metrics appropriate for imbalanced classification, such as **F1 Score**, **ROC-AUC**, **AUC-PR**, and the **Confusion Matrix**.\n",
    "\n",
    "---\n",
    "\n",
    "### Logistic Regression (Baseline Model)\n",
    "\n",
    "- **Precision (fraud class)**: 0.17  \n",
    "- **Recall (fraud class)**: 0.69  \n",
    "- **F1 Score (fraud class)**: 0.27  \n",
    "- **ROC-AUC**: 0.75  \n",
    "- **AUC-PR**: 0.40  \n",
    "- **Confusion Matrix**:\n",
    "  - Misses many non-fraud cases (high false positives)\n",
    "  - Decent recall on fraud detection, but very low precision\n",
    "\n",
    "-> Logistic Regression captures many fraud cases (good recall) but wrongly flags a large number of non-fraud cases as fraud (poor precision). This may not be ideal in real-world use due to high false alarm rates.\n",
    "\n",
    "---\n",
    "\n",
    "### LightGBM (Ensemble Model)\n",
    "\n",
    "- **Precision (fraud class)**: 1.00  \n",
    "- **Recall (fraud class)**: 0.53  \n",
    "- **F1 Score (fraud class)**: 0.70  \n",
    "- **ROC-AUC**: 0.77  \n",
    "- **AUC-PR**: 0.62  \n",
    "- **Confusion Matrix**:\n",
    "  - Accurately identifies almost all non-fraud cases\n",
    "  - Captures more than half of fraud cases with excellent precision\n",
    "\n",
    "-> LightGBM performs significantly better overall, especially in achieving a **strong balance between recall and precision**. The higher F1 and AUC-PR scores confirm it’s better suited for the fraud detection problem.\n",
    "\n",
    "---\n",
    "\n",
    "### Conclusion\n",
    "\n",
    "While Logistic Regression provides a useful baseline, **LightGBM is the superior model** for this imbalanced fraud detection task. It offers better predictive power, fewer false positives, and a better trade-off between catching fraud and avoiding unnecessary flags.\n",
    "\n"
   ]
  }
 ],
 "metadata": {
  "kernelspec": {
   "display_name": ".venv",
   "language": "python",
   "name": "python3"
  },
  "language_info": {
   "codemirror_mode": {
    "name": "ipython",
    "version": 3
   },
   "file_extension": ".py",
   "mimetype": "text/x-python",
   "name": "python",
   "nbconvert_exporter": "python",
   "pygments_lexer": "ipython3",
   "version": "3.11.0"
  }
 },
 "nbformat": 4,
 "nbformat_minor": 5
}
