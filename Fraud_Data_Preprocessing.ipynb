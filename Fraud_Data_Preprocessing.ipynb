{
 "cells": [
  {
   "cell_type": "markdown",
   "id": "23316c80",
   "metadata": {},
   "source": [
    "# Fraud_Data Preprocessing (Encoding & Scaling)"
   ]
  },
  {
   "cell_type": "code",
   "execution_count": null,
   "id": "395b69b1",
   "metadata": {},
   "outputs": [],
   "source": [
    "\n",
    "import pandas as pd\n",
    "from sklearn.preprocessing import LabelEncoder, StandardScaler\n",
    "\n",
    "# Load processed data\n",
    "df = pd.read_csv(\"Fraud_Data_Processed.csv\")\n",
    "df.head()\n",
    "    "
   ]
  },
  {
   "cell_type": "markdown",
   "id": "a8bbb634",
   "metadata": {},
   "source": [
    "## Encode Categorical Variables"
   ]
  },
  {
   "cell_type": "code",
   "execution_count": null,
   "id": "b16ed878",
   "metadata": {},
   "outputs": [],
   "source": [
    "\n",
    "# Encode 'sex', 'source', 'browser', 'country'\n",
    "label_encoders = {}\n",
    "for col in ['sex', 'source', 'browser', 'country']:\n",
    "    le = LabelEncoder()\n",
    "    df[col] = le.fit_transform(df[col])\n",
    "    label_encoders[col] = le\n",
    "\n",
    "df[['sex', 'source', 'browser', 'country']].head()\n",
    "    "
   ]
  },
  {
   "cell_type": "markdown",
   "id": "1ff600e2",
   "metadata": {},
   "source": [
    "## Scale Numerical Features"
   ]
  },
  {
   "cell_type": "code",
   "execution_count": null,
   "id": "d8814f3c",
   "metadata": {},
   "outputs": [],
   "source": [
    "\n",
    "scaler = StandardScaler()\n",
    "\n",
    "# Select columns to scale\n",
    "num_cols = ['purchase_value', 'age', 'time_since_signup']\n",
    "\n",
    "df[num_cols] = scaler.fit_transform(df[num_cols])\n",
    "df[num_cols].head()\n",
    "    "
   ]
  },
  {
   "cell_type": "markdown",
   "id": "bbacdbfa",
   "metadata": {},
   "source": [
    "## Save Preprocessed Data"
   ]
  },
  {
   "cell_type": "code",
   "execution_count": null,
   "id": "bd6ac16a",
   "metadata": {},
   "outputs": [],
   "source": [
    "\n",
    "df.to_csv(\"Fraud_Data_Final_Preprocessed.csv\", index=False)\n",
    "print(\"Data saved to Fraud_Data_Final_Preprocessed.csv\")\n",
    "    "
   ]
  }
 ],
 "metadata": {},
 "nbformat": 4,
 "nbformat_minor": 5
}
